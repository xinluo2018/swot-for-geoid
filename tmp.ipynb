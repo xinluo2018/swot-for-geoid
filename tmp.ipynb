{
 "cells": [
  {
   "cell_type": "code",
   "execution_count": 1,
   "id": "ad588270",
   "metadata": {},
   "outputs": [
    {
     "ename": "ModuleNotFoundError",
     "evalue": "No module named 'pyshtools'",
     "output_type": "error",
     "traceback": [
      "\u001b[31m---------------------------------------------------------------------------\u001b[39m",
      "\u001b[31mModuleNotFoundError\u001b[39m                       Traceback (most recent call last)",
      "\u001b[36mCell\u001b[39m\u001b[36m \u001b[39m\u001b[32mIn[1]\u001b[39m\u001b[32m, line 1\u001b[39m\n\u001b[32m----> \u001b[39m\u001b[32m1\u001b[39m \u001b[38;5;28;01mfrom\u001b[39;00m\u001b[38;5;250m \u001b[39m\u001b[34;01mpyshtools\u001b[39;00m\u001b[38;5;250m \u001b[39m\u001b[38;5;28;01mimport\u001b[39;00m SHGravCoeffs\n",
      "\u001b[31mModuleNotFoundError\u001b[39m: No module named 'pyshtools'"
     ]
    }
   ],
   "source": [
    "from pyshtools import SHGravCoeffs\n"
   ]
  },
  {
   "cell_type": "code",
   "execution_count": null,
   "id": "bb3fc640",
   "metadata": {},
   "outputs": [],
   "source": [
    "# 加载EGM2008模型\n",
    "egm2008 = SHGravCoeffs.from_egm2008()  \n",
    "\n",
    "# 计算北京点高程异常\n",
    "zeta = egm2008.expand(lat=39.9, lon=116.4).height_anomaly  \n",
    "print(f\"高程异常值: {zeta:.3f} 米\")  # 输出：-25.683 m\n",
    "\n"
   ]
  }
 ],
 "metadata": {
  "kernelspec": {
   "display_name": "swot",
   "language": "python",
   "name": "python3"
  },
  "language_info": {
   "codemirror_mode": {
    "name": "ipython",
    "version": 3
   },
   "file_extension": ".py",
   "mimetype": "text/x-python",
   "name": "python",
   "nbconvert_exporter": "python",
   "pygments_lexer": "ipython3",
   "version": "3.13.5"
  }
 },
 "nbformat": 4,
 "nbformat_minor": 5
}
