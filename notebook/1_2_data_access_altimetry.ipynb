{
 "cells": [
  {
   "cell_type": "markdown",
   "id": "0d82ab16",
   "metadata": {},
   "source": [
    "### altimetry data accessing.  \n",
    "Include: icesat-2, cryosat-2 and sentinel-3 data."
   ]
  },
  {
   "cell_type": "code",
   "execution_count": 5,
   "id": "33464f6c",
   "metadata": {},
   "outputs": [],
   "source": [
    "import icepyx as ipx \n",
    "import geopandas as gpd\n",
    "from pprint import pprint\n"
   ]
  },
  {
   "cell_type": "code",
   "execution_count": 6,
   "id": "f1dde746",
   "metadata": {},
   "outputs": [],
   "source": [
    "path_lake_vec = 'data/chaohu-lake/hydrolake_chaohu.gpkg'\n",
    "lake_gdf = gpd.read_file(path_lake_vec)\n"
   ]
  },
  {
   "cell_type": "code",
   "execution_count": 7,
   "id": "5e71934e",
   "metadata": {},
   "outputs": [],
   "source": [
    "# bounding box\n",
    "short_name = 'ATL13'\n",
    "region_extent = lake_gdf.buffer(0.1).total_bounds\n",
    "# region_extent = [102.408, 24.570, 103.009, 25.015]  ## dianchi \n",
    "date_range = ['2021-09-24','2021-09-25']\n",
    "dir_down = 'data/chaohu-lake/icesat2/'+short_name\n"
   ]
  },
  {
   "cell_type": "code",
   "execution_count": 8,
   "id": "b4ef5ca2",
   "metadata": {},
   "outputs": [
    {
     "name": "stdout",
     "output_type": "stream",
     "text": [
      "Product: ATL13\n",
      "Version: 007\n",
      "[['ATL13_20210925154349_00491301_006_01.h5']]\n"
     ]
    }
   ],
   "source": [
    "data_region = ipx.Query(product=short_name, \n",
    "                         spatial_extent=region_extent, \n",
    "                         date_range=date_range)\n",
    "print('Product:', data_region.product)\n",
    "print('Version:', data_region.product_version)\n",
    "filelist = data_region.avail_granules(ids=True)\n",
    "# pprint(data_region.avail_granules())\n",
    "pprint(filelist)\n"
   ]
  },
  {
   "cell_type": "code",
   "execution_count": 9,
   "id": "fdfcfd2a",
   "metadata": {},
   "outputs": [
    {
     "name": "stdout",
     "output_type": "stream",
     "text": [
      "Harmony job ID:  b38d3718-b41e-4bdc-9b37-6c6841708fdb\n",
      "Initial status of your harmony order request: successful\n",
      "Downloading results for harmony job b38d3718-b41e-4bdc-9b37-6c6841708fdb\n",
      "data/chaohu-lake/icesat2/ATL13/ATL13_20210925154349_00491301_007_01.h5\n"
     ]
    }
   ],
   "source": [
    "# earthdata user login and data download\n",
    "data_order = data_region.order_granules(subset=True)\n",
    "file = data_order.download_granules(path=dir_down)\n"
   ]
  },
  {
   "cell_type": "code",
   "execution_count": null,
   "id": "521cb7c1",
   "metadata": {},
   "outputs": [],
   "source": [
    "\n"
   ]
  }
 ],
 "metadata": {
  "kernelspec": {
   "display_name": "swot",
   "language": "python",
   "name": "python3"
  },
  "language_info": {
   "codemirror_mode": {
    "name": "ipython",
    "version": 3
   },
   "file_extension": ".py",
   "mimetype": "text/x-python",
   "name": "python",
   "nbconvert_exporter": "python",
   "pygments_lexer": "ipython3",
   "version": "3.9.19"
  }
 },
 "nbformat": 4,
 "nbformat_minor": 5
}
