{
 "cells": [
  {
   "cell_type": "markdown",
   "id": "1170e6f0",
   "metadata": {},
   "source": [
    "#### Read swot l2 pixel cloud data and write out to masked file.\n"
   ]
  },
  {
   "cell_type": "code",
   "execution_count": 1,
   "id": "30778411",
   "metadata": {},
   "outputs": [],
   "source": [
    "import os\n",
    "import numpy as np\n",
    "import xarray as xr\n",
    "import geopandas as gpd\n",
    "from glob import glob\n",
    "from utils.swot_data_mask import swot_pixc_mask, swot_raster_mask\n",
    "from utils.functions import swot_raster_reproj\n"
   ]
  },
  {
   "cell_type": "code",
   "execution_count": 2,
   "id": "2b3af700",
   "metadata": {},
   "outputs": [],
   "source": [
    "dir_pixc = 'data/siling_co-lake/swot-pixc'\n",
    "dir_raster = 'data/siling_co-lake/raster'\n",
    "path_lake_vec = 'data/siling_co-lake/hydrolake_siling_co.gpkg'\n"
   ]
  },
  {
   "cell_type": "code",
   "execution_count": 3,
   "id": "b3a29ce6",
   "metadata": {},
   "outputs": [
    {
     "data": {
      "text/html": [
       "<div>\n",
       "<style scoped>\n",
       "    .dataframe tbody tr th:only-of-type {\n",
       "        vertical-align: middle;\n",
       "    }\n",
       "\n",
       "    .dataframe tbody tr th {\n",
       "        vertical-align: top;\n",
       "    }\n",
       "\n",
       "    .dataframe thead th {\n",
       "        text-align: right;\n",
       "    }\n",
       "</style>\n",
       "<table border=\"1\" class=\"dataframe\">\n",
       "  <thead>\n",
       "    <tr style=\"text-align: right;\">\n",
       "      <th></th>\n",
       "      <th>Hylak_id</th>\n",
       "      <th>Lake_name</th>\n",
       "      <th>Country</th>\n",
       "      <th>Continent</th>\n",
       "      <th>Poly_src</th>\n",
       "      <th>Lake_type</th>\n",
       "      <th>Grand_id</th>\n",
       "      <th>Lake_area</th>\n",
       "      <th>Shore_len</th>\n",
       "      <th>Shore_dev</th>\n",
       "      <th>...</th>\n",
       "      <th>Vol_src</th>\n",
       "      <th>Depth_avg</th>\n",
       "      <th>Dis_avg</th>\n",
       "      <th>Res_time</th>\n",
       "      <th>Elevation</th>\n",
       "      <th>Slope_100</th>\n",
       "      <th>Wshd_area</th>\n",
       "      <th>Pour_long</th>\n",
       "      <th>Pour_lat</th>\n",
       "      <th>geometry</th>\n",
       "    </tr>\n",
       "  </thead>\n",
       "  <tbody>\n",
       "    <tr>\n",
       "      <th>0</th>\n",
       "      <td>147</td>\n",
       "      <td>Siling</td>\n",
       "      <td>China</td>\n",
       "      <td>Asia</td>\n",
       "      <td>SWBD</td>\n",
       "      <td>1</td>\n",
       "      <td>0</td>\n",
       "      <td>1749.53</td>\n",
       "      <td>402.54</td>\n",
       "      <td>2.71</td>\n",
       "      <td>...</td>\n",
       "      <td>1</td>\n",
       "      <td>28.0</td>\n",
       "      <td>0.0</td>\n",
       "      <td>-1.0</td>\n",
       "      <td>4539</td>\n",
       "      <td>-1.0</td>\n",
       "      <td>29077.1</td>\n",
       "      <td>89.047917</td>\n",
       "      <td>31.777083</td>\n",
       "      <td>MULTIPOLYGON (((88.97853 32.01195, 88.9806 32....</td>\n",
       "    </tr>\n",
       "  </tbody>\n",
       "</table>\n",
       "<p>1 rows × 22 columns</p>\n",
       "</div>"
      ],
      "text/plain": [
       "   Hylak_id Lake_name Country Continent Poly_src  Lake_type  Grand_id  \\\n",
       "0       147    Siling   China      Asia     SWBD          1         0   \n",
       "\n",
       "   Lake_area  Shore_len  Shore_dev  ...  Vol_src  Depth_avg  Dis_avg  \\\n",
       "0    1749.53     402.54       2.71  ...        1       28.0      0.0   \n",
       "\n",
       "   Res_time  Elevation  Slope_100  Wshd_area  Pour_long   Pour_lat  \\\n",
       "0      -1.0       4539       -1.0    29077.1  89.047917  31.777083   \n",
       "\n",
       "                                            geometry  \n",
       "0  MULTIPOLYGON (((88.97853 32.01195, 88.9806 32....  \n",
       "\n",
       "[1 rows x 22 columns]"
      ]
     },
     "execution_count": 3,
     "metadata": {},
     "output_type": "execute_result"
    }
   ],
   "source": [
    "## read vector file of the lake.\n",
    "lake_gdf = gpd.read_file(path_lake_vec)\n",
    "lake_gdf\n"
   ]
  },
  {
   "cell_type": "code",
   "execution_count": 4,
   "id": "ea4d49bc",
   "metadata": {},
   "outputs": [],
   "source": [
    "lake_decrease_gdf = lake_gdf.copy()\n",
    "lon_center = lake_decrease_gdf.bounds.mean(axis=1).values\n",
    "utm_zone = np.floor(lon_center/6)+31\n",
    "epsg_code = f'326{int(utm_zone[0])}'\n",
    "lake_decrease_gdf = lake_decrease_gdf.to_crs(epsg=epsg_code)\n",
    "lake_decrease_gdf['geometry'] = lake_decrease_gdf.geometry.buffer(-200)\n",
    "lake_decrease_gdf = lake_decrease_gdf.to_crs(epsg=4326)\n"
   ]
  },
  {
   "cell_type": "markdown",
   "id": "d011f57b",
   "metadata": {},
   "source": [
    "#### 1. SWOT pixel cloud: batch data read, mask and write out"
   ]
  },
  {
   "cell_type": "code",
   "execution_count": 5,
   "id": "8debccb2",
   "metadata": {},
   "outputs": [
    {
     "name": "stdout",
     "output_type": "stream",
     "text": [
      "9\n"
     ]
    }
   ],
   "source": [
    "## Check original .nc raster file.\n",
    "paths_pixc = [p for p in glob(dir_pixc + '/*.nc') if '_masked' not in p and 'filter' not in p and 'height' not in p]\n",
    "paths_pixc = sorted(paths_pixc)\n",
    "print(len(paths_pixc))\n"
   ]
  },
  {
   "cell_type": "code",
   "execution_count": null,
   "id": "e9afb146",
   "metadata": {},
   "outputs": [
    {
     "name": "stdout",
     "output_type": "stream",
     "text": [
      "input file: 0 data/siling_co-lake/swot-pixc/SWOT_L2_HR_PIXC_015_217_210L_20240516T015222_20240516T015234_PIC0_01.nc\n",
      "file written to data/siling_co-lake/swot-pixc/SWOT_L2_HR_PIXC_015_217_210L_20240516T015222_20240516T015234_PIC0_01_masked.nc\n",
      "input file: 1 data/siling_co-lake/swot-pixc/SWOT_L2_HR_PIXC_016_217_210L_20240605T223729_20240605T223740_PIC0_01.nc\n"
     ]
    }
   ],
   "source": [
    "for i, path in enumerate(paths_pixc):\n",
    "  print(f'input file: {i} {path}')\n",
    "  # Define the output path\n",
    "  path_masked = path.split('.')[0]+'_masked.nc'\n",
    "  pixc_nc = xr.open_dataset(path, group='pixel_cloud')\n",
    "  pixc_masked = swot_pixc_mask(pixc_nc=pixc_nc, \n",
    "                                vars_sel=['latitude', 'longitude', 'height', \n",
    "                                          'solid_earth_tide', 'pole_tide', \n",
    "                                          'load_tide_fes', 'iono_cor_gim_ka', 'geoid',\n",
    "                                          ],\n",
    "                                region_gdf=lake_decrease_gdf, \n",
    "                                path_masked=path_masked)\n"
   ]
  },
  {
   "cell_type": "markdown",
   "id": "a3b0e27b",
   "metadata": {},
   "source": [
    "#### 2. SWOT raster data: batch data read, mask and write out"
   ]
  },
  {
   "cell_type": "code",
   "execution_count": null,
   "id": "890c9aaa",
   "metadata": {},
   "outputs": [
    {
     "name": "stdout",
     "output_type": "stream",
     "text": [
      "9\n"
     ]
    }
   ],
   "source": [
    "## Check original .nc raster file.\n",
    "paths_raster_file = [p for p in glob(dir_raster + '/*.nc') if 'Raster_' in p and 'masked' not in p]\n",
    "paths_raster_file = sorted(paths_raster_file)\n",
    "print(len(paths_raster_file))\n"
   ]
  },
  {
   "cell_type": "code",
   "execution_count": null,
   "id": "9178828d",
   "metadata": {},
   "outputs": [
    {
     "name": "stdout",
     "output_type": "stream",
     "text": [
      "input file: 0 data/dianchi-lake/raster/SWOT_L2_HR_Raster_100m_UTM48R_N_x_x_x_009_049_099F_20240105T211638_20240105T211659_PIC0_01.nc\n",
      "file read and written to data/dianchi-lake/raster/SWOT_L2_HR_Raster_100m_UTM48R_N_x_x_x_009_049_099F_20240105T211638_20240105T211659_PIC0_01_masked.nc\n",
      "input file: 1 data/dianchi-lake/raster/SWOT_L2_HR_Raster_100m_UTM48R_N_x_x_x_010_049_099F_20240126T180144_20240126T180205_PIC0_01.nc\n",
      "file read and written to data/dianchi-lake/raster/SWOT_L2_HR_Raster_100m_UTM48R_N_x_x_x_010_049_099F_20240126T180144_20240126T180205_PIC0_01_masked.nc\n",
      "input file: 2 data/dianchi-lake/raster/SWOT_L2_HR_Raster_100m_UTM48R_N_x_x_x_012_049_099F_20240308T113153_20240308T113214_PIC0_01.nc\n",
      "file read and written to data/dianchi-lake/raster/SWOT_L2_HR_Raster_100m_UTM48R_N_x_x_x_012_049_099F_20240308T113153_20240308T113214_PIC0_01_masked.nc\n",
      "input file: 3 data/dianchi-lake/raster/SWOT_L2_HR_Raster_100m_UTM48R_N_x_x_x_014_049_099F_20240419T050203_20240419T050224_PIC0_01.nc\n",
      "file read and written to data/dianchi-lake/raster/SWOT_L2_HR_Raster_100m_UTM48R_N_x_x_x_014_049_099F_20240419T050203_20240419T050224_PIC0_01_masked.nc\n",
      "input file: 4 data/dianchi-lake/raster/SWOT_L2_HR_Raster_100m_UTM48R_N_x_x_x_016_049_099F_20240530T223211_20240530T223232_PIC0_01.nc\n",
      "file read and written to data/dianchi-lake/raster/SWOT_L2_HR_Raster_100m_UTM48R_N_x_x_x_016_049_099F_20240530T223211_20240530T223232_PIC0_01_masked.nc\n",
      "input file: 5 data/dianchi-lake/raster/SWOT_L2_HR_Raster_100m_UTM48R_N_x_x_x_018_049_099F_20240711T160219_20240711T160240_PIC0_01.nc\n",
      "file read and written to data/dianchi-lake/raster/SWOT_L2_HR_Raster_100m_UTM48R_N_x_x_x_018_049_099F_20240711T160219_20240711T160240_PIC0_01_masked.nc\n",
      "input file: 6 data/dianchi-lake/raster/SWOT_L2_HR_Raster_100m_UTM48R_N_x_x_x_020_049_099F_20240822T093228_20240822T093249_PIC0_01.nc\n",
      "file read and written to data/dianchi-lake/raster/SWOT_L2_HR_Raster_100m_UTM48R_N_x_x_x_020_049_099F_20240822T093228_20240822T093249_PIC0_01_masked.nc\n",
      "input file: 7 data/dianchi-lake/raster/SWOT_L2_HR_Raster_100m_UTM48R_N_x_x_x_023_049_099F_20241023T234746_20241023T234807_PIC2_01.nc\n",
      "file read and written to data/dianchi-lake/raster/SWOT_L2_HR_Raster_100m_UTM48R_N_x_x_x_023_049_099F_20241023T234746_20241023T234807_PIC2_01_masked.nc\n",
      "input file: 8 data/dianchi-lake/raster/SWOT_L2_HR_Raster_100m_UTM48R_N_x_x_x_026_049_099F_20241225T140259_20241225T140320_PIC2_01.nc\n",
      "file read and written to data/dianchi-lake/raster/SWOT_L2_HR_Raster_100m_UTM48R_N_x_x_x_026_049_099F_20241225T140259_20241225T140320_PIC2_01_masked.nc\n"
     ]
    }
   ],
   "source": [
    "for i, path in enumerate(paths_raster_file):\n",
    "    print(f'input file: {i} {path}')\n",
    "    # Define the output path\n",
    "    path_masked = path.split('.')[0]+'_masked.nc'\n",
    "    raster_nc = xr.open_dataset(path, decode_times=False)\n",
    "    raster_epsg = '326' + str(raster_nc.attrs['utm_zone_num'])\n",
    "    raster_wgs84_nc = swot_raster_reproj(raster_nc, epsg_from=raster_epsg, epsg_to='4326')\n",
    "    raster_vars = swot_raster_mask(raster_nc=raster_wgs84_nc, \n",
    "                                vars_sel=['x', 'y', 'wse','sig0', 'geoid', 'wse_qual'],\n",
    "                                region_gdf=lake_decrease_gdf, \n",
    "                                path_masked=path_masked)\n"
   ]
  }
 ],
 "metadata": {
  "kernelspec": {
   "display_name": "swot",
   "language": "python",
   "name": "python3"
  },
  "language_info": {
   "codemirror_mode": {
    "name": "ipython",
    "version": 3
   },
   "file_extension": ".py",
   "mimetype": "text/x-python",
   "name": "python",
   "nbconvert_exporter": "python",
   "pygments_lexer": "ipython3",
   "version": "3.13.5"
  }
 },
 "nbformat": 4,
 "nbformat_minor": 5
}
