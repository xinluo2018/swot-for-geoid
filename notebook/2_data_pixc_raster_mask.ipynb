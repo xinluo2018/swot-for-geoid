{
 "cells": [
  {
   "cell_type": "markdown",
   "id": "1170e6f0",
   "metadata": {},
   "source": [
    "#### Read swot l2 pixel cloud data and write out to masked file.\n"
   ]
  },
  {
   "cell_type": "code",
   "execution_count": 9,
   "id": "30778411",
   "metadata": {},
   "outputs": [],
   "source": [
    "import os\n",
    "import xarray as xr\n",
    "from glob import glob\n",
    "import geopandas as gpd\n",
    "from utils.swot_data_mask import swot_pixc_mask, swot_raster_mask\n",
    "from utils.functions import swot_raster_reproj\n"
   ]
  },
  {
   "cell_type": "code",
   "execution_count": 10,
   "id": "2b3af700",
   "metadata": {},
   "outputs": [],
   "source": [
    "dir_pixc = 'data/dianchi-lake/pixc'\n",
    "dir_raster = 'data/dianchi-lake/raster'\n",
    "path_lake_vec = 'data/dianchi-lake/dianchi_vector.gpkg'\n"
   ]
  },
  {
   "cell_type": "code",
   "execution_count": 11,
   "id": "b3a29ce6",
   "metadata": {},
   "outputs": [
    {
     "data": {
      "text/html": [
       "<div>\n",
       "<style scoped>\n",
       "    .dataframe tbody tr th:only-of-type {\n",
       "        vertical-align: middle;\n",
       "    }\n",
       "\n",
       "    .dataframe tbody tr th {\n",
       "        vertical-align: top;\n",
       "    }\n",
       "\n",
       "    .dataframe thead th {\n",
       "        text-align: right;\n",
       "    }\n",
       "</style>\n",
       "<table border=\"1\" class=\"dataframe\">\n",
       "  <thead>\n",
       "    <tr style=\"text-align: right;\">\n",
       "      <th></th>\n",
       "      <th>Name</th>\n",
       "      <th>geometry</th>\n",
       "    </tr>\n",
       "  </thead>\n",
       "  <tbody>\n",
       "    <tr>\n",
       "      <th>0</th>\n",
       "      <td>dianchi</td>\n",
       "      <td>POLYGON Z ((102.66614 24.83805 0.00000, 102.65...</td>\n",
       "    </tr>\n",
       "  </tbody>\n",
       "</table>\n",
       "</div>"
      ],
      "text/plain": [
       "      Name                                           geometry\n",
       "0  dianchi  POLYGON Z ((102.66614 24.83805 0.00000, 102.65..."
      ]
     },
     "execution_count": 11,
     "metadata": {},
     "output_type": "execute_result"
    }
   ],
   "source": [
    "## read vector file of the lake.\n",
    "lake_gpd = gpd.read_file(path_lake_vec)\n",
    "lake_gpd\n"
   ]
  },
  {
   "cell_type": "markdown",
   "id": "d011f57b",
   "metadata": {},
   "source": [
    "#### 1. SWOT pixel cloud: batch data read, mask and write out"
   ]
  },
  {
   "cell_type": "code",
   "execution_count": 12,
   "id": "8debccb2",
   "metadata": {},
   "outputs": [
    {
     "name": "stdout",
     "output_type": "stream",
     "text": [
      "9\n"
     ]
    }
   ],
   "source": [
    "## Check original .nc raster file.\n",
    "paths_pixc_file = [os.path.join(dir_pixc, file) for file in os.listdir(dir_pixc) if 'PIXC_' in file and 'masked' not in file]\n",
    "paths_pixc_file = sorted(paths_pixc_file)\n",
    "print(len(paths_pixc_file))\n"
   ]
  },
  {
   "cell_type": "code",
   "execution_count": 13,
   "id": "536b3b99",
   "metadata": {},
   "outputs": [
    {
     "name": "stdout",
     "output_type": "stream",
     "text": [
      "input file: 0 data/dianchi-lake/pixc/SWOT_L2_HR_PIXC_009_049_198L_20240105T211648_20240105T211659_PIC0_01.nc\n",
      "file read and written to data/dianchi-lake/pixc/SWOT_L2_HR_PIXC_009_049_198L_20240105T211648_20240105T211659_PIC0_01_masked.nc\n",
      "input file: 1 data/dianchi-lake/pixc/SWOT_L2_HR_PIXC_010_049_198L_20240126T180154_20240126T180205_PIC0_01.nc\n",
      "file read and written to data/dianchi-lake/pixc/SWOT_L2_HR_PIXC_010_049_198L_20240126T180154_20240126T180205_PIC0_01_masked.nc\n",
      "input file: 2 data/dianchi-lake/pixc/SWOT_L2_HR_PIXC_012_049_198L_20240308T113203_20240308T113214_PIC0_01.nc\n",
      "file read and written to data/dianchi-lake/pixc/SWOT_L2_HR_PIXC_012_049_198L_20240308T113203_20240308T113214_PIC0_01_masked.nc\n",
      "input file: 3 data/dianchi-lake/pixc/SWOT_L2_HR_PIXC_014_049_198L_20240419T050213_20240419T050224_PIC0_01.nc\n",
      "file read and written to data/dianchi-lake/pixc/SWOT_L2_HR_PIXC_014_049_198L_20240419T050213_20240419T050224_PIC0_01_masked.nc\n",
      "input file: 4 data/dianchi-lake/pixc/SWOT_L2_HR_PIXC_016_049_198L_20240530T223221_20240530T223232_PIC0_01.nc\n",
      "file read and written to data/dianchi-lake/pixc/SWOT_L2_HR_PIXC_016_049_198L_20240530T223221_20240530T223232_PIC0_01_masked.nc\n",
      "input file: 5 data/dianchi-lake/pixc/SWOT_L2_HR_PIXC_018_049_198L_20240711T160229_20240711T160240_PIC0_01.nc\n",
      "file read and written to data/dianchi-lake/pixc/SWOT_L2_HR_PIXC_018_049_198L_20240711T160229_20240711T160240_PIC0_01_masked.nc\n",
      "input file: 6 data/dianchi-lake/pixc/SWOT_L2_HR_PIXC_019_049_198L_20240801T124734_20240801T124745_PIC0_02.nc\n",
      "file read and written to data/dianchi-lake/pixc/SWOT_L2_HR_PIXC_019_049_198L_20240801T124734_20240801T124745_PIC0_02_masked.nc\n",
      "input file: 7 data/dianchi-lake/pixc/SWOT_L2_HR_PIXC_021_049_198L_20240912T061744_20240912T061755_PIC0_01.nc\n",
      "file read and written to data/dianchi-lake/pixc/SWOT_L2_HR_PIXC_021_049_198L_20240912T061744_20240912T061755_PIC0_01_masked.nc\n",
      "input file: 8 data/dianchi-lake/pixc/SWOT_L2_HR_PIXC_025_049_198L_20241204T171804_20241204T171816_PIC2_01.nc\n",
      "file read and written to data/dianchi-lake/pixc/SWOT_L2_HR_PIXC_025_049_198L_20241204T171804_20241204T171816_PIC2_01_masked.nc\n"
     ]
    }
   ],
   "source": [
    "for i, path in enumerate(paths_pixc_file):\n",
    "  print(f'input file: {i} {path}')\n",
    "  # Define the output path\n",
    "  path_masked = path.split('.')[0]+'_masked.nc'\n",
    "  pixc_nc = xr.open_dataset(path, group='pixel_cloud')\n",
    "  pix_vars = swot_pixc_mask(pixc_nc=pixc_nc, region_gpd=lake_gpd, path_masked=path_masked)\n"
   ]
  },
  {
   "cell_type": "markdown",
   "id": "a3b0e27b",
   "metadata": {},
   "source": [
    "#### 2. SWOT raster data: batch data read, mask and write out"
   ]
  },
  {
   "cell_type": "code",
   "execution_count": 14,
   "id": "890c9aaa",
   "metadata": {},
   "outputs": [
    {
     "name": "stdout",
     "output_type": "stream",
     "text": [
      "9\n"
     ]
    }
   ],
   "source": [
    "## Check original .nc raster file.\n",
    "paths_raster_file = [os.path.join(dir_raster, file) for file in os.listdir(dir_raster) \n",
    "                                            if 'Raster_' in file and 'masked' not in file]\n",
    "paths_raster_file = sorted(paths_raster_file)\n",
    "print(len(paths_raster_file))\n"
   ]
  },
  {
   "cell_type": "code",
   "execution_count": 15,
   "id": "9178828d",
   "metadata": {},
   "outputs": [
    {
     "name": "stdout",
     "output_type": "stream",
     "text": [
      "input file: 0 data/dianchi-lake/raster/SWOT_L2_HR_Raster_100m_UTM48R_N_x_x_x_009_049_099F_20240105T211638_20240105T211659_PIC0_01.nc\n",
      "file read and written to data/dianchi-lake/raster/SWOT_L2_HR_Raster_100m_UTM48R_N_x_x_x_009_049_099F_20240105T211638_20240105T211659_PIC0_01_masked.nc\n",
      "input file: 1 data/dianchi-lake/raster/SWOT_L2_HR_Raster_100m_UTM48R_N_x_x_x_010_049_099F_20240126T180144_20240126T180205_PIC0_01.nc\n",
      "file read and written to data/dianchi-lake/raster/SWOT_L2_HR_Raster_100m_UTM48R_N_x_x_x_010_049_099F_20240126T180144_20240126T180205_PIC0_01_masked.nc\n",
      "input file: 2 data/dianchi-lake/raster/SWOT_L2_HR_Raster_100m_UTM48R_N_x_x_x_012_049_099F_20240308T113153_20240308T113214_PIC0_01.nc\n",
      "file read and written to data/dianchi-lake/raster/SWOT_L2_HR_Raster_100m_UTM48R_N_x_x_x_012_049_099F_20240308T113153_20240308T113214_PIC0_01_masked.nc\n",
      "input file: 3 data/dianchi-lake/raster/SWOT_L2_HR_Raster_100m_UTM48R_N_x_x_x_014_049_099F_20240419T050203_20240419T050224_PIC0_01.nc\n",
      "file read and written to data/dianchi-lake/raster/SWOT_L2_HR_Raster_100m_UTM48R_N_x_x_x_014_049_099F_20240419T050203_20240419T050224_PIC0_01_masked.nc\n",
      "input file: 4 data/dianchi-lake/raster/SWOT_L2_HR_Raster_100m_UTM48R_N_x_x_x_016_049_099F_20240530T223211_20240530T223232_PIC0_01.nc\n",
      "file read and written to data/dianchi-lake/raster/SWOT_L2_HR_Raster_100m_UTM48R_N_x_x_x_016_049_099F_20240530T223211_20240530T223232_PIC0_01_masked.nc\n",
      "input file: 5 data/dianchi-lake/raster/SWOT_L2_HR_Raster_100m_UTM48R_N_x_x_x_018_049_099F_20240711T160219_20240711T160240_PIC0_01.nc\n",
      "file read and written to data/dianchi-lake/raster/SWOT_L2_HR_Raster_100m_UTM48R_N_x_x_x_018_049_099F_20240711T160219_20240711T160240_PIC0_01_masked.nc\n",
      "input file: 6 data/dianchi-lake/raster/SWOT_L2_HR_Raster_100m_UTM48R_N_x_x_x_020_049_099F_20240822T093228_20240822T093249_PIC0_01.nc\n",
      "file read and written to data/dianchi-lake/raster/SWOT_L2_HR_Raster_100m_UTM48R_N_x_x_x_020_049_099F_20240822T093228_20240822T093249_PIC0_01_masked.nc\n",
      "input file: 7 data/dianchi-lake/raster/SWOT_L2_HR_Raster_100m_UTM48R_N_x_x_x_023_049_099F_20241023T234746_20241023T234807_PIC2_01.nc\n",
      "file read and written to data/dianchi-lake/raster/SWOT_L2_HR_Raster_100m_UTM48R_N_x_x_x_023_049_099F_20241023T234746_20241023T234807_PIC2_01_masked.nc\n",
      "input file: 8 data/dianchi-lake/raster/SWOT_L2_HR_Raster_100m_UTM48R_N_x_x_x_026_049_099F_20241225T140259_20241225T140320_PIC2_01.nc\n",
      "file read and written to data/dianchi-lake/raster/SWOT_L2_HR_Raster_100m_UTM48R_N_x_x_x_026_049_099F_20241225T140259_20241225T140320_PIC2_01_masked.nc\n"
     ]
    }
   ],
   "source": [
    "for i, path in enumerate(paths_raster_file):\n",
    "    print(f'input file: {i} {path}')\n",
    "    # Define the output path\n",
    "    path_masked = path.split('.')[0]+'_masked.nc'\n",
    "    raster_nc = xr.open_dataset(path, decode_times=False)\n",
    "    raster_epsg = '326' + str(raster_nc.attrs['utm_zone_num'])\n",
    "    raster_wgs84_nc = swot_raster_reproj(raster_nc, epsg_from=raster_epsg, epsg_to='4326')\n",
    "    raster_vars = swot_raster_mask(raster_nc=raster_wgs84_nc, \n",
    "                                region_gpd=lake_gpd, path_masked=path_masked)\n"
   ]
  }
 ],
 "metadata": {
  "kernelspec": {
   "display_name": "swot",
   "language": "python",
   "name": "python3"
  },
  "language_info": {
   "codemirror_mode": {
    "name": "ipython",
    "version": 3
   },
   "file_extension": ".py",
   "mimetype": "text/x-python",
   "name": "python",
   "nbconvert_exporter": "python",
   "pygments_lexer": "ipython3",
   "version": "3.9.18"
  }
 },
 "nbformat": 4,
 "nbformat_minor": 5
}
