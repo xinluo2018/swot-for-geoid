{
 "cells": [
  {
   "cell_type": "code",
   "execution_count": 1,
   "id": "3aee5557",
   "metadata": {},
   "outputs": [],
   "source": [
    "import os\n",
    "import numpy as np\n",
    "import xarray as xr\n",
    "from glob import glob\n",
    "import geopandas as gpd\n",
    "from utils.functions import meter2deg\n",
    "from utils.functions import pixc_geophy_cor\n",
    "from utils.pixc2raster import pixc2raster\n",
    "from utils.swot_data_mask import swot_pixc_mask\n",
    "from utils.swot_data_filter import iter_IQR, pixc_height_local_filtering\n",
    "\n"
   ]
  },
  {
   "cell_type": "code",
   "execution_count": 2,
   "id": "bff326e2",
   "metadata": {},
   "outputs": [],
   "source": [
    "dir_pixc = 'data/gyaring-lake/swot-pixc'\n",
    "dir_raster = 'data/gyaring-lake/raster'\n",
    "path_lake_vec = 'data/gyaring-lake/hydrolake_gyaring.gpkg'\n",
    "path_raster_geoid_cor_smoothed = 'data/gyaring-lake/raster_geoid_cor_smoothed.nc'\n"
   ]
  },
  {
   "cell_type": "code",
   "execution_count": 3,
   "id": "caedd9ae",
   "metadata": {},
   "outputs": [
    {
     "data": {
      "text/html": [
       "<div>\n",
       "<style scoped>\n",
       "    .dataframe tbody tr th:only-of-type {\n",
       "        vertical-align: middle;\n",
       "    }\n",
       "\n",
       "    .dataframe tbody tr th {\n",
       "        vertical-align: top;\n",
       "    }\n",
       "\n",
       "    .dataframe thead th {\n",
       "        text-align: right;\n",
       "    }\n",
       "</style>\n",
       "<table border=\"1\" class=\"dataframe\">\n",
       "  <thead>\n",
       "    <tr style=\"text-align: right;\">\n",
       "      <th></th>\n",
       "      <th>Hylak_id</th>\n",
       "      <th>Lake_name</th>\n",
       "      <th>Country</th>\n",
       "      <th>Continent</th>\n",
       "      <th>Poly_src</th>\n",
       "      <th>Lake_type</th>\n",
       "      <th>Grand_id</th>\n",
       "      <th>Lake_area</th>\n",
       "      <th>Shore_len</th>\n",
       "      <th>Shore_dev</th>\n",
       "      <th>...</th>\n",
       "      <th>Vol_src</th>\n",
       "      <th>Depth_avg</th>\n",
       "      <th>Dis_avg</th>\n",
       "      <th>Res_time</th>\n",
       "      <th>Elevation</th>\n",
       "      <th>Slope_100</th>\n",
       "      <th>Wshd_area</th>\n",
       "      <th>Pour_long</th>\n",
       "      <th>Pour_lat</th>\n",
       "      <th>geometry</th>\n",
       "    </tr>\n",
       "  </thead>\n",
       "  <tbody>\n",
       "    <tr>\n",
       "      <th>0</th>\n",
       "      <td>1385</td>\n",
       "      <td>Gyaring</td>\n",
       "      <td>China</td>\n",
       "      <td>Asia</td>\n",
       "      <td>SWBD</td>\n",
       "      <td>1</td>\n",
       "      <td>0</td>\n",
       "      <td>520.58</td>\n",
       "      <td>143.97</td>\n",
       "      <td>1.78</td>\n",
       "      <td>...</td>\n",
       "      <td>1</td>\n",
       "      <td>9.0</td>\n",
       "      <td>19.118</td>\n",
       "      <td>2827.2</td>\n",
       "      <td>4290</td>\n",
       "      <td>-1.0</td>\n",
       "      <td>9516.1</td>\n",
       "      <td>97.312801</td>\n",
       "      <td>34.810857</td>\n",
       "      <td>MULTIPOLYGON (((97.35592 35.01686, 97.35711 35...</td>\n",
       "    </tr>\n",
       "  </tbody>\n",
       "</table>\n",
       "<p>1 rows × 22 columns</p>\n",
       "</div>"
      ],
      "text/plain": [
       "   Hylak_id Lake_name Country Continent Poly_src  Lake_type  Grand_id  \\\n",
       "0      1385   Gyaring   China      Asia     SWBD          1         0   \n",
       "\n",
       "   Lake_area  Shore_len  Shore_dev  ...  Vol_src  Depth_avg  Dis_avg  \\\n",
       "0     520.58     143.97       1.78  ...        1        9.0   19.118   \n",
       "\n",
       "   Res_time  Elevation  Slope_100  Wshd_area  Pour_long   Pour_lat  \\\n",
       "0    2827.2       4290       -1.0     9516.1  97.312801  34.810857   \n",
       "\n",
       "                                            geometry  \n",
       "0  MULTIPOLYGON (((97.35592 35.01686, 97.35711 35...  \n",
       "\n",
       "[1 rows x 22 columns]"
      ]
     },
     "execution_count": 3,
     "metadata": {},
     "output_type": "execute_result"
    }
   ],
   "source": [
    "## read vector file of the lake.\n",
    "lake_gdf = gpd.read_file(path_lake_vec)\n",
    "lake_gdf\n"
   ]
  },
  {
   "cell_type": "code",
   "execution_count": 4,
   "id": "4cf16a0c",
   "metadata": {},
   "outputs": [],
   "source": [
    "lake_decrease_gdf = lake_gdf.copy()\n",
    "lon_center = lake_decrease_gdf.bounds.mean(axis=1).values\n",
    "utm_zone = np.floor(lon_center/6)+31\n",
    "epsg_code = f'326{int(utm_zone[0])}'\n",
    "lake_decrease_gdf = lake_decrease_gdf.to_crs(epsg=epsg_code)\n",
    "lake_decrease_gdf['geometry'] = lake_decrease_gdf.geometry.buffer(-200)\n",
    "lake_decrease_gdf = lake_decrease_gdf.to_crs(epsg=4326)\n"
   ]
  },
  {
   "cell_type": "code",
   "execution_count": 5,
   "id": "b690fa5e",
   "metadata": {},
   "outputs": [
    {
     "name": "stdout",
     "output_type": "stream",
     "text": [
      "6\n"
     ]
    }
   ],
   "source": [
    "## Check original .nc raster file.\n",
    "paths_pixc = [p for p in glob(dir_pixc + '/*.nc') if '_masked' not in p]\n",
    "paths_pixc = sorted(paths_pixc)\n",
    "print(len(paths_pixc))\n"
   ]
  },
  {
   "cell_type": "code",
   "execution_count": null,
   "id": "23235e64",
   "metadata": {},
   "outputs": [
    {
     "name": "stdout",
     "output_type": "stream",
     "text": [
      "input file: 0 data/gyaring-lake/swot-pixc/SWOT_L2_HR_PIXC_014_146_093L_20240422T155501_20240422T155512_PIC0_01.nc\n",
      "input file: 1 data/gyaring-lake/swot-pixc/SWOT_L2_HR_PIXC_015_146_093L_20240513T124005_20240513T124016_PIC0_01.nc\n",
      "input file: 2 data/gyaring-lake/swot-pixc/SWOT_L2_HR_PIXC_016_146_093L_20240603T092510_20240603T092522_PIC0_01.nc\n",
      "input file: 3 data/gyaring-lake/swot-pixc/SWOT_L2_HR_PIXC_017_146_093L_20240624T061014_20240624T061025_PIC0_01.nc\n",
      "input file: 4 data/gyaring-lake/swot-pixc/SWOT_L2_HR_PIXC_020_146_093L_20240825T202526_20240825T202538_PIC0_01.nc\n",
      "input file: 5 data/gyaring-lake/swot-pixc/SWOT_L2_HR_PIXC_021_146_093L_20240915T171033_20240915T171044_PIC0_01.nc\n"
     ]
    },
    {
     "ename": "",
     "evalue": "",
     "output_type": "error",
     "traceback": [
      "\u001b[1;31mThe Kernel crashed while executing code in the current cell or a previous cell. \n",
      "\u001b[1;31mPlease review the code in the cell(s) to identify a possible cause of the failure. \n",
      "\u001b[1;31mClick <a href='https://aka.ms/vscodeJupyterKernelCrash'>here</a> for more info. \n",
      "\u001b[1;31mView Jupyter <a href='command:jupyter.viewOutput'>log</a> for further details."
     ]
    }
   ],
   "source": [
    "## mask\n",
    "pixcs_masked = []\n",
    "for i, path in enumerate(paths_pixc):\n",
    "  print(f'input file: {i} {path}')\n",
    "  # Define the output path\n",
    "  path_masked = path.split('.')[0]+'_masked.nc'\n",
    "  pixc_nc = xr.open_dataset(path, group='pixel_cloud')\n",
    "  pixc_masked = swot_pixc_mask(pixc_nc=pixc_nc, \n",
    "                                vars_sel=['latitude', 'longitude', 'height', \n",
    "                                          'solid_earth_tide', 'pole_tide', \n",
    "                                          'load_tide_fes', 'iono_cor_gim_ka', 'geoid',\n",
    "                                    ],\n",
    "                                region_gdf=lake_decrease_gdf)\n",
    "  pixcs_masked.append(pixc_masked)\n"
   ]
  },
  {
   "cell_type": "code",
   "execution_count": null,
   "id": "b8ee157f",
   "metadata": {},
   "outputs": [
    {
     "name": "stdout",
     "output_type": "stream",
     "text": [
      "1\n"
     ]
    }
   ],
   "source": [
    "pixcs_masked_filterd = []\n",
    "for pixc_masked in pixcs_masked:\n",
    "    print(1)\n",
    "    pixc_height_filter_ds = pixc_masked[['geoid', 'height']]\n",
    "    ## 1. geophysical correction for height, and convert to orthometric height\n",
    "    pixc_height_cor = pixc_geophy_cor(pixc_nc=pixc_masked)\n",
    "    pixc_height_cor = pixc_height_cor - pixc_masked.geoid.values\n",
    "    pixc_height_filter_ds = pixc_height_filter_ds.assign({'pixc_height_cor': ((\"points\",), pixc_height_cor)})\n",
    "    pixc_height_filter_ds.pixc_height_cor.attrs['description'] = 'PIXC height data with geophysical correction and geoid correction'\n",
    "\n",
    "    ## 2. height filtering \n",
    "    ## 2.1 height filtering in global region using IQR method\n",
    "    pixc_height_cor_filter1, IQR = iter_IQR(pixc_height_cor, IQR_thre=0.3, iter_max=5)\n",
    "    pixc_height_cor_filter1 = pixc_height_cor_filter1.filled(np.nan)\n",
    "    pixc_height_filter_ds = pixc_height_filter_ds.assign({'pixc_height_cor_filter1': ((\"points\",), pixc_height_cor_filter1)})\n",
    "    pixc_height_filter_ds.pixc_height_cor_filter1.attrs['description'] = 'PIXC height data with global filtering using IQR method'\n",
    "    ## 2.2 height filtering in local region\n",
    "    pixc_height_cor_filter2 = pixc_height_local_filtering(pixc_height=pixc_height_cor_filter1, \n",
    "                                              pixc_lonlat=(pixc_nc.longitude, pixc_nc.latitude), \n",
    "                                              thre=0.3, \n",
    "                                              radius_m=500)\n",
    "    pixc_height_filter_ds = pixc_height_filter_ds.assign({'pixc_height_cor_filter2': ((\"points\",), pixc_height_cor_filter2)})\n",
    "    pixc_height_filter_ds.pixc_height_cor_filter2.attrs['description'] = 'PIXC height with both global and local filtering'\n",
    "    pixcs_masked_filterd.append(pixc_height_filter_ds)\n"
   ]
  },
  {
   "cell_type": "code",
   "execution_count": null,
   "id": "32f4a07b",
   "metadata": {},
   "outputs": [],
   "source": [
    "## calculate the corrected geoid \n",
    "pixcs_geoid_cor_ds = []\n",
    "for pixc_masked_filtered in pixcs_masked_filterd:\n",
    "    pixc_geoid_cor_ds = pixc_masked_filtered[['pixc_height_cor_filter2', 'geoid']]\n",
    "    ## calculate corrected geoid\n",
    "    pixc_geoid_height_centered = pixc_masked_filtered['pixc_height_cor_filter2'].values - np.nanmean(pixc_masked_filtered['pixc_height_cor_filter2'])  # Centralization of the geoid height\n",
    "    pixc_geoid_mean = np.nanmean(pixc_masked_filtered['geoid'])  \n",
    "    pixc_geoid_cor = pixc_geoid_mean + pixc_geoid_height_centered    ## Geoid correction\n",
    "    ## save as DataArray\n",
    "    pixc_geoid_cor_ds = pixc_geoid_cor_ds.assign({'geoid_cor': ((\"points\",), pixc_geoid_cor)})\n",
    "    pixcs_geoid_cor_ds.append(pixc_geoid_cor_ds)\n",
    "\n"
   ]
  },
  {
   "cell_type": "code",
   "execution_count": null,
   "id": "9a2af856",
   "metadata": {},
   "outputs": [],
   "source": [
    "### temporal smoothing for the geoid correction\n",
    "xmin, ymin, xmax, ymax = lake_gdf.geometry[0].buffer(0.01).bounds\n",
    "raster_extent = (xmin, xmax, ymin, ymax)\n",
    "print('raster extent:', raster_extent)\n",
    "lat_center = pixcs_geoid_cor_ds[0]['geoid_cor'].latitude.mean().values\n",
    "res_lon, res_lat = meter2deg(meter=500, lat=lat_center)\n",
    "print('resolution (lon, lat):', res_lon, res_lat)\n",
    "rasters_geoid_cor = []\n",
    "for pixc_geoid_cor in pixcs_geoid_cor_ds:\n",
    "    raster_geoid_cor = pixc2raster(pixc_var = pixc_geoid_cor['geoid_cor'], \n",
    "                          raster_extent=raster_extent,\n",
    "                          pixc_lonlat=(pixc_geoid_cor.longitude.values, pixc_geoid_cor.latitude.values), \n",
    "                          resolution=(res_lon, res_lat))\n",
    "    raster_geoid_cor.attrs = pixc_geoid_cor.attrs\n",
    "    rasters_geoid_cor.append(raster_geoid_cor)\n"
   ]
  },
  {
   "cell_type": "code",
   "execution_count": null,
   "id": "f0643ad7",
   "metadata": {},
   "outputs": [],
   "source": [
    "rasters_geoid_cor_da = xr.concat(rasters_geoid_cor, dim='date') \n",
    "rasters_geoid_cor_smoothed = rasters_geoid_cor_da.median(dim='date', keep_attrs=True)  # temporal smoothing\n",
    "rasters_geoid_cor_smoothed.name = \"geoid_cor_smoothed\"\n",
    "rasters_geoid_cor_smoothed\n",
    "# ## Save as NetCDF file\n",
    "rasters_geoid_cor_smoothed.to_netcdf(path_raster_geoid_cor_smoothed)\n"
   ]
  },
  {
   "cell_type": "code",
   "execution_count": null,
   "id": "42377771",
   "metadata": {},
   "outputs": [],
   "source": [
    "\n",
    "\n"
   ]
  },
  {
   "cell_type": "code",
   "execution_count": null,
   "id": "2ca1928e",
   "metadata": {},
   "outputs": [],
   "source": []
  },
  {
   "cell_type": "code",
   "execution_count": null,
   "id": "7df44018",
   "metadata": {},
   "outputs": [],
   "source": [
    "\n"
   ]
  },
  {
   "cell_type": "code",
   "execution_count": null,
   "id": "dec6ac2b",
   "metadata": {},
   "outputs": [],
   "source": [
    "\n",
    "\n",
    "\n"
   ]
  }
 ],
 "metadata": {
  "kernelspec": {
   "display_name": "swot",
   "language": "python",
   "name": "python3"
  },
  "language_info": {
   "codemirror_mode": {
    "name": "ipython",
    "version": 3
   },
   "file_extension": ".py",
   "mimetype": "text/x-python",
   "name": "python",
   "nbconvert_exporter": "python",
   "pygments_lexer": "ipython3",
   "version": "3.13.5"
  }
 },
 "nbformat": 4,
 "nbformat_minor": 5
}
